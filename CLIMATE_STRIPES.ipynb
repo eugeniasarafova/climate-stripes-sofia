{
 "cells": [
  {
   "cell_type": "markdown",
   "id": "114a8254-e394-4a6c-95f3-8fb980d02e91",
   "metadata": {},
   "source": [
    "# Climate Stripes Visualization - Sofia (42.74°N, 23.35°E)\n",
    "\n",
    "## A Sample Climate Stripes Jupyter Notebook\n",
    "*Teaching with Open Climate Data in Mathematics, Informatics & Geography - An Interdisciplinary Model*"
   ]
  },
  {
   "cell_type": "markdown",
   "id": "8e4efdae-04c1-4a2e-92a6-f7ae472f39d0",
   "metadata": {},
   "source": [
    "### 📦 Step 1: Import Required Libraries\n",
    "In the first step we have to import Python packages used for data handling, plotting, and numerical operations.\n",
    "\n",
    "#### 🧠 Student Task:\n",
    "- *What do each of the libraries (`pandas`, `numpy`, `matplotlib`) help us do in this notebook?*\n",
    "- *Try importing an additional library like `seaborn`. What is it used for?*"
   ]
  },
  {
   "cell_type": "code",
   "execution_count": 52,
   "id": "e54f5c70-7893-49ed-b161-08e109778cbb",
   "metadata": {},
   "outputs": [],
   "source": [
    "import pandas as pd\n",
    "import matplotlib.pyplot as plt\n",
    "import numpy as np"
   ]
  },
  {
   "cell_type": "markdown",
   "id": "23b216cf-c988-4898-a496-f69f536aaf9e",
   "metadata": {},
   "source": [
    "### 📂 Step 2: Load Climate Data\n",
    "This dataset contains annual scaled temperature anomalies from 1940 to 2024 for a pixel in Sofia, Bulgaria. You can download a .csv file for any other location at Era Explorer - https://era-explorer.climate.copernicus.eu\n",
    "\n",
    "#### 🧠 Student Task:\n",
    "- *Inspect the raw file structure using `open()` — what format is this file in?*\n",
    "- *How is this data different from a typical 2-column CSV?*"
   ]
  },
  {
   "cell_type": "markdown",
   "id": "abc6e1da-59c1-41c3-9be7-6d064d028010",
   "metadata": {},
   "source": [
    "with open(\"D:\\\\Dropbox\\\\01_SOFIA_UNIVERSITY\\\\01_Documents\\\\04_SUMMIT\\\\Paper-climate-interdisciplinary-lessons\\\\Data-JupyterNotebooks\\\\Temperature_warming_stripes_42.74N23.35E-Sofia.csv\", \"r\", encoding=\"utf-8\") as f:\n",
    "    for i in range(5):\n",
    "        print(f.readline())"
   ]
  },
  {
   "cell_type": "markdown",
   "id": "531814d1-591a-4c0e-8ce6-8fbd40a0c349",
   "metadata": {},
   "source": [
    "### 🧮 Step 3: Normalize the Data for Visualization\n",
    "We normalize the anomaly values to map them to a color range suitable for visual representation.\n",
    "\n",
    "#### 🧠 Student Task:\n",
    "- *Why is normalization important before visualizing with color?*\n",
    "- *What happens if we reverse the min and max when using `Normalize()`?*"
   ]
  },
  {
   "cell_type": "code",
   "execution_count": 53,
   "id": "619468cf-6cb5-4ce9-8df0-a3ee788e062c",
   "metadata": {},
   "outputs": [],
   "source": [
    "import matplotlib.pyplot as plt\n",
    "import numpy as np\n",
    "\n",
    "# Normalize values for colormap\n",
    "norm = plt.Normalize(vmin=min(values), vmax=max(values))\n",
    "colors = plt.cm.coolwarm(norm(values))\n"
   ]
  },
  {
   "cell_type": "markdown",
   "id": "9d8fec32-95bf-4a4b-babb-cc46a3adfb8e",
   "metadata": {},
   "source": [
    "### 🎨 Step 4: Generate the Climate Stripes\n",
    "We use `matplotlib` to create a stripe plot that represents the annual temperature anomalies as colored bars.\n",
    "\n",
    "#### 🧠 Student Task:\n",
    "- *Which years in the plot show cooler vs warmer colors?*\n",
    "- *Try switching the colormap to `coolwarm`, `viridis`, or `plasma`. How does this affect readability?*\n",
    "- *Can you identify any visual trends across decades?*"
   ]
  },
  {
   "cell_type": "code",
   "execution_count": 54,
   "id": "99e84bad-97ec-405a-8350-5d9e48f32bac",
   "metadata": {},
   "outputs": [
    {
     "data": {
      "image/png": "[encoded data removed]",
      "text/plain": [
       "<Figure size 1200x200 with 1 Axes>"
      ]
     },
     "metadata": {},
     "output_type": "display_data"
    }
   ],
   "source": [
    "# Plot climate stripes\n",
    "fig, ax = plt.subplots(figsize=(12, 2))\n",
    "ax.imshow([colors], aspect=\"auto\")\n",
    "ax.axis(\"off\")\n",
    "plt.title(f\"Climate Stripes near Sofia (1940–2024)\", fontsize=12)\n",
    "plt.show()"
   ]
  },
  {
   "cell_type": "markdown",
   "id": "a6901e00-bf5e-4f2b-86ee-d5a37f40d213",
   "metadata": {},
   "source": [
    "### 📁 Export the Climate Stripes as a PNG Image\n",
    "The final plot is saved as a high-resolution PNG file suitable for publications, presentations, or educational posters.\n",
    "\n",
    "#### 🧠 Student Task:\n",
    "- *Where is the file saved? Can you locate it on your computer?*\n",
    "- *Modify the code to save a second version as a `.pdf`. How is it different?*"
   ]
  },
  {
   "cell_type": "code",
   "execution_count": 55,
   "id": "27df8ab3-e8cb-48da-8a66-21390a25b0f8",
   "metadata": {},
   "outputs": [
    {
     "name": "stdout",
     "output_type": "stream",
     "text": [
      "Image saved as: climate_stripes_sofia_1940_2024.png\n"
     ]
    }
   ],
   "source": [
    "# Save the climate stripes as a PNG file in the current working directory\n",
    "output_file = \"climate_stripes_sofia_1940_2024.png\"\n",
    "plt.imsave(output_file, [colors], dpi=300)\n",
    "\n",
    "print(f\"Image saved as: {output_file}\")"
   ]
  },
  {
   "cell_type": "markdown",
   "id": "72fdf575-0279-4a8d-9615-e260d5663b10",
   "metadata": {},
   "source": [
    "# 🏥 Reflection on Climate Change, Urban Heat, and Public Health\n",
    "\n",
    "#### 🧠 Student Task:\n",
    "- *Based on the climate stripes you generated, how might increasing temperatures affect **human health** in Sofia?*\n",
    "- *Which groups in society are most vulnerable to heat-related impacts?*\n",
    "- *From a **geographical perspective**, what can city officials in Sofia do to reduce urban heat risks?*  \n",
    "  ## Consider solutions such as:\n",
    "  - *Green roofs and urban forests*\n",
    "  - *Cooling centers*\n",
    "  - *Reflective surfaces or urban planning*\n",
    "  - *Early warning systems*\n",
    "\n",
    "📝 Write a short reflection (3–5 sentences) or create a mini-presentation proposing **one local strategy** to address the urban heat island effect in your city or region.\n"
   ]
  },
  {
   "cell_type": "code",
   "execution_count": null,
   "id": "d0ad6d23-0798-4dc5-8951-70d663aec4ed",
   "metadata": {},
   "outputs": [],
   "source": []
  }
 ],
 "metadata": {
  "kernelspec": {
   "display_name": "Python [conda env:base] *",
   "language": "python",
   "name": "conda-base-py"
  },
  "language_info": {
   "codemirror_mode": {
    "name": "ipython",
    "version": 3
   },
   "file_extension": ".py",
   "mimetype": "text/x-python",
   "name": "python",
   "nbconvert_exporter": "python",
   "pygments_lexer": "ipython3",
   "version": "3.12.7"
  }
 },
 "nbformat": 4,
 "nbformat_minor": 5
}
